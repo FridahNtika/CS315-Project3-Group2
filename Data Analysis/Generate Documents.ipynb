{
 "cells": [
  {
   "cell_type": "markdown",
   "id": "a80d648f-acee-4733-ae57-6d951ed2ef5d",
   "metadata": {},
   "source": [
    "## 1. Import Libraries"
   ]
  },
  {
   "cell_type": "code",
   "execution_count": 2,
   "id": "0051266c-5f76-4ed7-bd12-d10addcda5b9",
   "metadata": {},
   "outputs": [],
   "source": [
    "import pandas as pd\n",
    "import csv\n",
    "import json\n",
    "from collections import Counter"
   ]
  },
  {
   "cell_type": "markdown",
   "id": "06a7f200-f580-4693-9699-bfd31a70b918",
   "metadata": {},
   "source": [
    "## 2. Load data"
   ]
  },
  {
   "cell_type": "code",
   "execution_count": 3,
   "id": "c500850e-f6d8-45ad-99a6-3022ac840cb2",
   "metadata": {},
   "outputs": [],
   "source": [
    "file1 = \"/Users/fridahntika/Documents/CS315/Project 3/CS315-Project3-Group2/Data/results_10633.csv\"\n",
    "file2 = \"/Users/fridahntika/Documents/CS315/Project 3/CS315-Project3-Group2/Data/results_10824_full.csv\"\n",
    "file3 = \"/Users/fridahntika/Documents/CS315/Project 3/CS315-Project3-Group2/Data/results_12345_full.csv\"\n",
    "file4 = \"/Users/fridahntika/Documents/CS315/Project 3/CS315-Project3-Group2/Data/results_26301.csv\"\n",
    "file5 = \"/Users/fridahntika/Documents/CS315/Project 3/CS315-Project3-Group2/Data/results_33534.csv\"\n",
    "file6 = \"/Users/fridahntika/Documents/CS315/Project 3/CS315-Project3-Group2/Data/results_38129.csv\"\n",
    "file7 = \"/Users/fridahntika/Documents/CS315/Project 3/CS315-Project3-Group2/Data/results_50405_full.csv\"\n",
    "file8 = \"/Users/fridahntika/Documents/CS315/Project 3/CS315-Project3-Group2/Data/Sec2Gr3_74721.csv\"\n",
    "file9 = \"/Users/fridahntika/Documents/CS315/Project 3/CS315-Project3-Group2/Data/Sec2Gr3_77217.csv\"\n",
    "file10 = \"/Users/fridahntika/Documents/CS315/Project 3/CS315-Project3-Group2/Data/Sec2Gr3_77777.csv\""
   ]
  },
  {
   "cell_type": "code",
   "execution_count": 4,
   "id": "e979343a-6c87-4042-9c09-7e292278b72d",
   "metadata": {},
   "outputs": [],
   "source": [
    "# Lists that will store video IDs for each user's viewed posts\n",
    "list1 = []\n",
    "list2 = []\n",
    "list3 = []\n",
    "list4 = []\n",
    "list5 = []\n",
    "list6 = []\n",
    "list7 = []\n",
    "list8 = []\n",
    "list9 = []\n",
    "list10 = []"
   ]
  },
  {
   "cell_type": "code",
   "execution_count": 166,
   "id": "18ee60ae-1020-4d6c-81ef-68380cccb406",
   "metadata": {},
   "outputs": [],
   "source": [
    "data = pd.read_csv(file5)\n",
    "posts = pd.DataFrame(data)\n",
    "#posts.shape\n",
    "#posts.head()"
   ]
  },
  {
   "cell_type": "code",
   "execution_count": 167,
   "id": "7cea6047-4f53-4b4a-a033-c8a3e8c26382",
   "metadata": {},
   "outputs": [],
   "source": [
    "#clean the data\n",
    "posts = posts[posts['video_description'].notna()]\n",
    "posts = posts[posts['video_locationcreated'] == 'US']\n",
    "#posts.shape"
   ]
  },
  {
   "cell_type": "code",
   "execution_count": 34,
   "id": "edfbf401-7eaa-415e-87b7-e6686b6171f6",
   "metadata": {},
   "outputs": [],
   "source": [
    "#storing the ids\n",
    "for id in posts['video_id']:\n",
    "    list1.append(id)"
   ]
  },
  {
   "cell_type": "code",
   "execution_count": 35,
   "id": "6d3f9490-fcef-472a-9450-2eab838473db",
   "metadata": {},
   "outputs": [],
   "source": [
    "#dictionary that counts how many overlapping videos there are between users\n",
    "overlaps = {'1 & 2': 0,'1 & 3': 0,'1 & 4': 0,'1 & 5': 0,'1 & 6': 0,'1 & 7': 0,'1 & 8': 0,'1 & 9': 0,'1 & 10': 0,\n",
    "           '2 & 3': 0, '2 & 4': 0, '2 & 5': 0, '2 & 6': 0, '2 & 7': 0, '2 & 8': 0, '2 & 9': 0,'2 & 10': 0,\n",
    "           '3 & 4': 0, '3 & 5': 0, '3 & 6': 0, '3 & 7': 0, '3 & 8': 0, '3 & 9': 0, '3 & 10': 0,\n",
    "           '4 & 5': 0,'4 & 6': 0,'4 & 7': 0,'4 & 8': 0,'4 & 9': 0,'4 & 10': 0,\n",
    "           '5 & 6': 0,'5 & 7': 0,'5 & 8': 0,'5 & 9': 0,'5 & 10': 0,\n",
    "           '6 & 7': 0, '6 & 8': 0,'6 & 9': 0,'6 & 10': 0,\n",
    "           '7 & 8': 0,'7 & 9': 0,'7 & 10': 0,\n",
    "           '8 & 9': 0,'8 & 10': 0,\n",
    "           '9 & 10': 0}"
   ]
  },
  {
   "cell_type": "code",
   "execution_count": 44,
   "id": "6c4655a9-631f-48cd-a7a5-cf0b4bdecd4f",
   "metadata": {},
   "outputs": [],
   "source": [
    "for video in list1:\n",
    "    if video in list10:\n",
    "        overlaps['1 & 10'] += 1"
   ]
  },
  {
   "cell_type": "code",
   "execution_count": 52,
   "id": "6ef895c0-8d97-44ba-90b9-68b57f40cb9f",
   "metadata": {},
   "outputs": [],
   "source": [
    "for video in list2:\n",
    "    if video in list10:\n",
    "        overlaps['2 & 10'] += 1"
   ]
  },
  {
   "cell_type": "code",
   "execution_count": 59,
   "id": "45e175f4-7f17-4838-a2cd-df356e314c77",
   "metadata": {},
   "outputs": [],
   "source": [
    "for video in list3:\n",
    "    if video in list10:\n",
    "        overlaps['3 & 10'] += 1"
   ]
  },
  {
   "cell_type": "code",
   "execution_count": 65,
   "id": "d75c470e-680a-4231-9f46-6cfed2a00cd8",
   "metadata": {},
   "outputs": [],
   "source": [
    "for video in list4:\n",
    "    if video in list10:\n",
    "        overlaps['4 & 10'] += 1"
   ]
  },
  {
   "cell_type": "code",
   "execution_count": 70,
   "id": "cf1b3b3c-ce1f-4912-b3df-de5f1e0e592e",
   "metadata": {},
   "outputs": [],
   "source": [
    "for video in list5:\n",
    "    if video in list10:\n",
    "        overlaps['5 & 10'] += 1"
   ]
  },
  {
   "cell_type": "code",
   "execution_count": 74,
   "id": "de9e4a2d-6306-478f-8f2f-b395bc08e395",
   "metadata": {},
   "outputs": [],
   "source": [
    "for video in list6:\n",
    "    if video in list10:\n",
    "        overlaps['6 & 10'] += 1"
   ]
  },
  {
   "cell_type": "code",
   "execution_count": 77,
   "id": "db156584-9d86-48ac-bb4a-2a9731a28518",
   "metadata": {},
   "outputs": [],
   "source": [
    "for video in list7:\n",
    "    if video in list10:\n",
    "        overlaps['7 & 10'] += 1"
   ]
  },
  {
   "cell_type": "code",
   "execution_count": 79,
   "id": "f0e3c401-3ce3-4077-bafa-4e71a02e568c",
   "metadata": {},
   "outputs": [],
   "source": [
    "for video in list8:\n",
    "    if video in list10:\n",
    "        overlaps['8 & 10'] += 1"
   ]
  },
  {
   "cell_type": "code",
   "execution_count": 80,
   "id": "64bc7980-842e-4bf7-aa39-7175d2a702ae",
   "metadata": {},
   "outputs": [],
   "source": [
    "for video in list9:\n",
    "    if video in list10:\n",
    "        overlaps['9 & 10'] += 1"
   ]
  },
  {
   "cell_type": "code",
   "execution_count": 85,
   "id": "f964414f-2be4-4acf-a2fb-199830a0fc7c",
   "metadata": {},
   "outputs": [
    {
     "ename": "AttributeError",
     "evalue": "'list' object has no attribute 'items'",
     "output_type": "error",
     "traceback": [
      "\u001b[0;31m---------------------------------------------------------------------------\u001b[0m",
      "\u001b[0;31mAttributeError\u001b[0m                            Traceback (most recent call last)",
      "Cell \u001b[0;32mIn[85], line 1\u001b[0m\n\u001b[0;32m----> 1\u001b[0m overlaps \u001b[38;5;241m=\u001b[39m \u001b[38;5;28msorted\u001b[39m(overlaps\u001b[38;5;241m.\u001b[39mitems(), key\u001b[38;5;241m=\u001b[39m\u001b[38;5;28;01mlambda\u001b[39;00m item: item[\u001b[38;5;241m1\u001b[39m], reverse\u001b[38;5;241m=\u001b[39m\u001b[38;5;28;01mTrue\u001b[39;00m)\n\u001b[1;32m      2\u001b[0m overlaps\n",
      "\u001b[0;31mAttributeError\u001b[0m: 'list' object has no attribute 'items'"
     ]
    }
   ],
   "source": [
    "overlaps = sorted(overlaps.items(), key=lambda item: item[1], reverse=True)"
   ]
  },
  {
   "cell_type": "code",
   "execution_count": 86,
   "id": "8aedfa95-c438-4b4f-9ac5-041ee285db8a",
   "metadata": {},
   "outputs": [
    {
     "data": {
      "text/plain": [
       "[('3 & 7', 834),\n",
       " ('8 & 9', 548),\n",
       " ('3 & 4', 287),\n",
       " ('3 & 5', 286),\n",
       " ('7 & 8', 284),\n",
       " ('7 & 9', 247),\n",
       " ('3 & 8', 236),\n",
       " ('3 & 9', 234),\n",
       " ('5 & 7', 174),\n",
       " ('2 & 3', 101),\n",
       " ('4 & 5', 95),\n",
       " ('2 & 5', 79),\n",
       " ('2 & 4', 47),\n",
       " ('9 & 10', 40),\n",
       " ('2 & 7', 29),\n",
       " ('3 & 10', 29),\n",
       " ('7 & 10', 24),\n",
       " ('5 & 8', 19),\n",
       " ('4 & 7', 18),\n",
       " ('8 & 10', 17),\n",
       " ('5 & 9', 11),\n",
       " ('2 & 9', 10),\n",
       " ('2 & 8', 6),\n",
       " ('4 & 8', 4),\n",
       " ('4 & 6', 3),\n",
       " ('4 & 9', 3),\n",
       " ('2 & 10', 2),\n",
       " ('3 & 6', 1),\n",
       " ('5 & 10', 1),\n",
       " ('1 & 2', 0),\n",
       " ('1 & 3', 0),\n",
       " ('1 & 4', 0),\n",
       " ('1 & 5', 0),\n",
       " ('1 & 6', 0),\n",
       " ('1 & 7', 0),\n",
       " ('1 & 8', 0),\n",
       " ('1 & 9', 0),\n",
       " ('1 & 10', 0),\n",
       " ('2 & 6', 0),\n",
       " ('4 & 10', 0),\n",
       " ('5 & 6', 0),\n",
       " ('6 & 7', 0),\n",
       " ('6 & 8', 0),\n",
       " ('6 & 9', 0),\n",
       " ('6 & 10', 0)]"
      ]
     },
     "execution_count": 86,
     "metadata": {},
     "output_type": "execute_result"
    }
   ],
   "source": [
    "overlaps"
   ]
  },
  {
   "cell_type": "code",
   "execution_count": 138,
   "id": "2d1a4397-dd9d-4ac9-86c8-769fba6d5541",
   "metadata": {},
   "outputs": [
    {
     "data": {
      "image/png": "[encoded data removed]",
      "text/plain": [
       "<Figure size 1000x800 with 2 Axes>"
      ]
     },
     "metadata": {},
     "output_type": "display_data"
    }
   ],
   "source": [
    "import numpy as np\n",
    "import matplotlib.pyplot as plt\n",
    "\n",
    "# Create matrix\n",
    "matrix = np.zeros((10, 10))\n",
    "\n",
    "# Fill matrix with frequencies\n",
    "for pair, freq in overlaps:\n",
    "    i, j = map(int, pair.split(' & '))\n",
    "    matrix[i-1][j-1] = freq\n",
    "\n",
    "# Create heatmap\n",
    "plt.figure(figsize=(10, 8))\n",
    "plt.imshow(matrix, cmap='viridis', interpolation='nearest')\n",
    "plt.colorbar(label='Frequency')\n",
    "plt.title('Heatmap of Pair Frequencies')\n",
    "plt.xlabel('Users')\n",
    "plt.ylabel('Users')\n",
    "plt.xticks(np.arange(10), np.arange(1, 11))\n",
    "plt.yticks(np.arange(10), np.arange(1, 11))\n",
    "plt.show()"
   ]
  },
  {
   "cell_type": "code",
   "execution_count": null,
   "id": "f7225335-131d-456c-8dfd-25212febe979",
   "metadata": {},
   "outputs": [],
   "source": [
    "#posts2 = posts.groupby('video_id').agg('count').reset_index()\n",
    "#posts2.columns = ['video_id','count' ]\n",
    "#posts2"
   ]
  },
  {
   "cell_type": "code",
   "execution_count": null,
   "id": "d7580ee2-3a1a-4e25-aed3-5779c18c40cf",
   "metadata": {},
   "outputs": [],
   "source": [
    "#dictCount = Counter(list5)\n",
    "#len(dictCount)"
   ]
  },
  {
   "cell_type": "code",
   "execution_count": 163,
   "id": "6b17db78-78ff-49bb-8273-fab4db74309f",
   "metadata": {},
   "outputs": [
    {
     "data": {
      "text/plain": [
       "94"
      ]
     },
     "execution_count": 163,
     "metadata": {},
     "output_type": "execute_result"
    }
   ],
   "source": [
    "#add all the descriptions to one list\n",
    "#sentences = posts['video_description'].tolist() + posts['suggested_words'].tolist()\n",
    "#len(sentences)"
   ]
  },
  {
   "cell_type": "code",
   "execution_count": 168,
   "id": "c0814c79-d2b5-47bb-83e8-3671962c8400",
   "metadata": {},
   "outputs": [
    {
     "data": {
      "text/plain": [
       "9042"
      ]
     },
     "execution_count": 168,
     "metadata": {},
     "output_type": "execute_result"
    }
   ],
   "source": [
    "# Combine two columns into one flat list\n",
    "sentences = sum(posts[['video_description', 'suggested_words']].values.tolist(), [])\n",
    "len(sentences)"
   ]
  },
  {
   "cell_type": "code",
   "execution_count": 162,
   "id": "ed7b3c29-18e1-400e-9966-a17c1b1519f2",
   "metadata": {},
   "outputs": [],
   "source": [
    "#save to file\n",
    "with open('user1.json', 'w') as fout:\n",
    "    json.dump(sentences, fout)"
   ]
  },
  {
   "cell_type": "code",
   "execution_count": null,
   "id": "be6e4578-5f1f-4797-9e08-ccac83675aac",
   "metadata": {},
   "outputs": [],
   "source": []
  }
 ],
 "metadata": {
  "kernelspec": {
   "display_name": "Python 3 (ipykernel)",
   "language": "python",
   "name": "python3"
  },
  "language_info": {
   "codemirror_mode": {
    "name": "ipython",
    "version": 3
   },
   "file_extension": ".py",
   "mimetype": "text/x-python",
   "name": "python",
   "nbconvert_exporter": "python",
   "pygments_lexer": "ipython3",
   "version": "3.11.5"
  }
 },
 "nbformat": 4,
 "nbformat_minor": 5
}
