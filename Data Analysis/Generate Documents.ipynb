{
 "cells": [
  {
   "cell_type": "code",
   "execution_count": 108,
   "id": "0051266c-5f76-4ed7-bd12-d10addcda5b9",
   "metadata": {},
   "outputs": [],
   "source": [
    "import pandas as pd\n",
    "import csv\n",
    "import json\n",
    "from collections import Counter"
   ]
  },
  {
   "cell_type": "code",
   "execution_count": null,
   "id": "4d3f9097-200c-4fd0-b1aa-de79fd07c0a2",
   "metadata": {},
   "outputs": [],
   "source": [
    "vidIDs = []"
   ]
  },
  {
   "cell_type": "code",
   "execution_count": 112,
   "id": "c500850e-f6d8-45ad-99a6-3022ac840cb2",
   "metadata": {},
   "outputs": [],
   "source": [
    "file = \"/Users/fridahntika/Documents/CS315/Project 3/CS315-Project3-Group2/Data/results_38129.csv\""
   ]
  },
  {
   "cell_type": "code",
   "execution_count": 113,
   "id": "18ee60ae-1020-4d6c-81ef-68380cccb406",
   "metadata": {},
   "outputs": [
    {
     "data": {
      "text/html": [
       "<div>\n",
       "<style scoped>\n",
       "    .dataframe tbody tr th:only-of-type {\n",
       "        vertical-align: middle;\n",
       "    }\n",
       "\n",
       "    .dataframe tbody tr th {\n",
       "        vertical-align: top;\n",
       "    }\n",
       "\n",
       "    .dataframe thead th {\n",
       "        text-align: right;\n",
       "    }\n",
       "</style>\n",
       "<table border=\"1\" class=\"dataframe\">\n",
       "  <thead>\n",
       "    <tr style=\"text-align: right;\">\n",
       "      <th></th>\n",
       "      <th>video_id</th>\n",
       "      <th>video_timestamp</th>\n",
       "      <th>video_duration</th>\n",
       "      <th>video_locationcreated</th>\n",
       "      <th>suggested_words</th>\n",
       "      <th>video_diggcount</th>\n",
       "      <th>video_sharecount</th>\n",
       "      <th>video_commentcount</th>\n",
       "      <th>video_playcount</th>\n",
       "      <th>video_description</th>\n",
       "      <th>video_is_ad</th>\n",
       "      <th>video_stickers</th>\n",
       "      <th>author_username</th>\n",
       "      <th>author_name</th>\n",
       "      <th>author_followercount</th>\n",
       "      <th>author_followingcount</th>\n",
       "      <th>author_heartcount</th>\n",
       "      <th>author_videocount</th>\n",
       "      <th>author_diggcount</th>\n",
       "      <th>author_verified</th>\n",
       "    </tr>\n",
       "  </thead>\n",
       "  <tbody>\n",
       "    <tr>\n",
       "      <th>0</th>\n",
       "      <td>7343758155492642053</td>\n",
       "      <td>2024-03-07T17:52:23</td>\n",
       "      <td>185.0</td>\n",
       "      <td>RW</td>\n",
       "      <td>NaN</td>\n",
       "      <td>32.0</td>\n",
       "      <td>0.0</td>\n",
       "      <td>0.0</td>\n",
       "      <td>387.0</td>\n",
       "      <td>AMASHUSHO: I Berlin mu Budage hashojwe Imurika...</td>\n",
       "      <td>False</td>\n",
       "      <td>NaN</td>\n",
       "      <td>igihe</td>\n",
       "      <td>IGIHE</td>\n",
       "      <td>NaN</td>\n",
       "      <td>NaN</td>\n",
       "      <td>NaN</td>\n",
       "      <td>NaN</td>\n",
       "      <td>NaN</td>\n",
       "      <td>False</td>\n",
       "    </tr>\n",
       "    <tr>\n",
       "      <th>1</th>\n",
       "      <td>7338082342872861970</td>\n",
       "      <td>2024-02-21T14:35:00</td>\n",
       "      <td>34.0</td>\n",
       "      <td>QA</td>\n",
       "      <td>NaN</td>\n",
       "      <td>26300.0</td>\n",
       "      <td>1383.0</td>\n",
       "      <td>433.0</td>\n",
       "      <td>1000000.0</td>\n",
       "      <td>“بنتي أكلت إيديها من قلة الأكل” تحدثت هذه السي...</td>\n",
       "      <td>False</td>\n",
       "      <td>NaN</td>\n",
       "      <td>aljazeera</td>\n",
       "      <td>الجزيرة</td>\n",
       "      <td>NaN</td>\n",
       "      <td>NaN</td>\n",
       "      <td>NaN</td>\n",
       "      <td>NaN</td>\n",
       "      <td>NaN</td>\n",
       "      <td>True</td>\n",
       "    </tr>\n",
       "    <tr>\n",
       "      <th>2</th>\n",
       "      <td>7322961317084663082</td>\n",
       "      <td>2024-01-11T16:50:11</td>\n",
       "      <td>70.0</td>\n",
       "      <td>US</td>\n",
       "      <td>jayllnn, buldak ramen noodles, noodles, realja...</td>\n",
       "      <td>698300.0</td>\n",
       "      <td>6955.0</td>\n",
       "      <td>6421.0</td>\n",
       "      <td>20100000.0</td>\n",
       "      <td>#noodles</td>\n",
       "      <td>False</td>\n",
       "      <td>NaN</td>\n",
       "      <td>realjayllnn</td>\n",
       "      <td>JAYLLNN</td>\n",
       "      <td>NaN</td>\n",
       "      <td>NaN</td>\n",
       "      <td>NaN</td>\n",
       "      <td>NaN</td>\n",
       "      <td>NaN</td>\n",
       "      <td>True</td>\n",
       "    </tr>\n",
       "    <tr>\n",
       "      <th>3</th>\n",
       "      <td>7334951174124080430</td>\n",
       "      <td>2024-02-13T00:17:22</td>\n",
       "      <td>7.0</td>\n",
       "      <td>US</td>\n",
       "      <td>esterbron</td>\n",
       "      <td>27900.0</td>\n",
       "      <td>314.0</td>\n",
       "      <td>413.0</td>\n",
       "      <td>226400.0</td>\n",
       "      <td>NaN</td>\n",
       "      <td>False</td>\n",
       "      <td>NaN</td>\n",
       "      <td>esterbron1</td>\n",
       "      <td>Esterbron</td>\n",
       "      <td>NaN</td>\n",
       "      <td>NaN</td>\n",
       "      <td>NaN</td>\n",
       "      <td>NaN</td>\n",
       "      <td>NaN</td>\n",
       "      <td>False</td>\n",
       "    </tr>\n",
       "    <tr>\n",
       "      <th>4</th>\n",
       "      <td>7340746208555683078</td>\n",
       "      <td>2024-02-28T15:04:29</td>\n",
       "      <td>9.0</td>\n",
       "      <td>CA</td>\n",
       "      <td>twins, Twins Of TikTok, Two Twins, Lululemon, ...</td>\n",
       "      <td>26000.0</td>\n",
       "      <td>153.0</td>\n",
       "      <td>381.0</td>\n",
       "      <td>147500.0</td>\n",
       "      <td>Tag someone to do this dance with in the comme...</td>\n",
       "      <td>False</td>\n",
       "      <td>NaN</td>\n",
       "      <td>takemetolax</td>\n",
       "      <td>ocean helicopter rescue</td>\n",
       "      <td>NaN</td>\n",
       "      <td>NaN</td>\n",
       "      <td>NaN</td>\n",
       "      <td>NaN</td>\n",
       "      <td>NaN</td>\n",
       "      <td>False</td>\n",
       "    </tr>\n",
       "  </tbody>\n",
       "</table>\n",
       "</div>"
      ],
      "text/plain": [
       "              video_id      video_timestamp  video_duration  \\\n",
       "0  7343758155492642053  2024-03-07T17:52:23           185.0   \n",
       "1  7338082342872861970  2024-02-21T14:35:00            34.0   \n",
       "2  7322961317084663082  2024-01-11T16:50:11            70.0   \n",
       "3  7334951174124080430  2024-02-13T00:17:22             7.0   \n",
       "4  7340746208555683078  2024-02-28T15:04:29             9.0   \n",
       "\n",
       "  video_locationcreated                                    suggested_words  \\\n",
       "0                    RW                                                NaN   \n",
       "1                    QA                                                NaN   \n",
       "2                    US  jayllnn, buldak ramen noodles, noodles, realja...   \n",
       "3                    US                                          esterbron   \n",
       "4                    CA  twins, Twins Of TikTok, Two Twins, Lululemon, ...   \n",
       "\n",
       "   video_diggcount  video_sharecount  video_commentcount  video_playcount  \\\n",
       "0             32.0               0.0                 0.0            387.0   \n",
       "1          26300.0            1383.0               433.0        1000000.0   \n",
       "2         698300.0            6955.0              6421.0       20100000.0   \n",
       "3          27900.0             314.0               413.0         226400.0   \n",
       "4          26000.0             153.0               381.0         147500.0   \n",
       "\n",
       "                                   video_description  video_is_ad  \\\n",
       "0  AMASHUSHO: I Berlin mu Budage hashojwe Imurika...        False   \n",
       "1  “بنتي أكلت إيديها من قلة الأكل” تحدثت هذه السي...        False   \n",
       "2                                          #noodles         False   \n",
       "3                                                NaN        False   \n",
       "4  Tag someone to do this dance with in the comme...        False   \n",
       "\n",
       "   video_stickers author_username              author_name  \\\n",
       "0             NaN           igihe                    IGIHE   \n",
       "1             NaN       aljazeera                  الجزيرة   \n",
       "2             NaN     realjayllnn                  JAYLLNN   \n",
       "3             NaN      esterbron1                Esterbron   \n",
       "4             NaN     takemetolax  ocean helicopter rescue   \n",
       "\n",
       "   author_followercount  author_followingcount  author_heartcount  \\\n",
       "0                   NaN                    NaN                NaN   \n",
       "1                   NaN                    NaN                NaN   \n",
       "2                   NaN                    NaN                NaN   \n",
       "3                   NaN                    NaN                NaN   \n",
       "4                   NaN                    NaN                NaN   \n",
       "\n",
       "   author_videocount  author_diggcount  author_verified  \n",
       "0                NaN               NaN            False  \n",
       "1                NaN               NaN             True  \n",
       "2                NaN               NaN             True  \n",
       "3                NaN               NaN            False  \n",
       "4                NaN               NaN            False  "
      ]
     },
     "execution_count": 113,
     "metadata": {},
     "output_type": "execute_result"
    }
   ],
   "source": [
    "data = pd.read_csv(file)\n",
    "posts = pd.DataFrame(data)\n",
    "#posts.shape\n",
    "#posts.head()"
   ]
  },
  {
   "cell_type": "code",
   "execution_count": 114,
   "id": "7cea6047-4f53-4b4a-a033-c8a3e8c26382",
   "metadata": {},
   "outputs": [],
   "source": [
    "posts = posts[posts['video_description'].notna()]\n",
    "posts = posts[posts['video_locationcreated'] == 'US']\n",
    "#posts.shape"
   ]
  },
  {
   "cell_type": "code",
   "execution_count": 106,
   "id": "edfbf401-7eaa-415e-87b7-e6686b6171f6",
   "metadata": {},
   "outputs": [],
   "source": [
    "for id in posts['video_id']:\n",
    "    vidIDs.append(id)"
   ]
  },
  {
   "cell_type": "code",
   "execution_count": 107,
   "id": "d3e094aa-8f4b-4365-83cd-542d447ae0e5",
   "metadata": {},
   "outputs": [
    {
     "data": {
      "text/plain": [
       "57734"
      ]
     },
     "execution_count": 107,
     "metadata": {},
     "output_type": "execute_result"
    }
   ],
   "source": [
    "len(vidIDs)"
   ]
  },
  {
   "cell_type": "code",
   "execution_count": 111,
   "id": "d7580ee2-3a1a-4e25-aed3-5779c18c40cf",
   "metadata": {},
   "outputs": [
    {
     "data": {
      "text/plain": [
       "52644"
      ]
     },
     "execution_count": 111,
     "metadata": {},
     "output_type": "execute_result"
    }
   ],
   "source": [
    "dictCount = Counter(vidIDs)\n",
    "len(dictCount)"
   ]
  },
  {
   "cell_type": "code",
   "execution_count": 115,
   "id": "6b17db78-78ff-49bb-8273-fab4db74309f",
   "metadata": {},
   "outputs": [],
   "source": [
    "#add all the descriptions to one list\n",
    "sentences = posts['video_description'].tolist()"
   ]
  },
  {
   "cell_type": "code",
   "execution_count": 25,
   "id": "ed7b3c29-18e1-400e-9966-a17c1b1519f2",
   "metadata": {},
   "outputs": [],
   "source": [
    "#save to file\n",
    "with open('user10.json', 'w') as fout:\n",
    "    json.dump(sentences, fout)"
   ]
  }
 ],
 "metadata": {
  "kernelspec": {
   "display_name": "Python 3 (ipykernel)",
   "language": "python",
   "name": "python3"
  },
  "language_info": {
   "codemirror_mode": {
    "name": "ipython",
    "version": 3
   },
   "file_extension": ".py",
   "mimetype": "text/x-python",
   "name": "python",
   "nbconvert_exporter": "python",
   "pygments_lexer": "ipython3",
   "version": "3.11.5"
  }
 },
 "nbformat": 4,
 "nbformat_minor": 5
}
