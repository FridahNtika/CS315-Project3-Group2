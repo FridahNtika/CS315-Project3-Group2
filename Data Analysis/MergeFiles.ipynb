{
 "cells": [
  {
   "cell_type": "code",
   "execution_count": 1,
   "id": "dd1c1b7e-3020-478f-a270-5e46ec0e9cb7",
   "metadata": {},
   "outputs": [],
   "source": [
    "import pandas as pd\n",
    "import glob"
   ]
  },
  {
   "cell_type": "code",
   "execution_count": 3,
   "id": "4fa66138-d225-44b3-8dba-a9cf2fc140e1",
   "metadata": {},
   "outputs": [],
   "source": [
    "# Get all raw data files from folder\n",
    "raw_data = glob.glob(\"/Users/fridahntika/Documents/CS315/Project 3/CS315-Project3-Group2/Data Analysis/*.csv\")\n",
    "\n",
    "# Going through every file in folder, creating and cleaning data, and appending to df\n",
    "master = []\n",
    "for file in raw_data:\n",
    "    df = pd.read_csv(file)\n",
    "\n",
    "    # Adding necessary columns\n",
    "    df[\"filename\"] = file\n",
    "    df[\"user\"] = str(file)[-12:-4]\n",
    "    df[\"saved\"] = \"saved\" in str(file)\n",
    "    \n",
    "    master.append(df)\n",
    "\n",
    "# Concatenating the files together into master dataframe\n",
    "df = pd.concat(master, axis=0, ignore_index=True)\n",
    "\n",
    "# Saving to CSV\n",
    "df.to_csv(\"/Users/fridahntika/Documents/CS315/Project 3/CS315-Project3-Group2/Data Analysis/master.csv\", index=False)"
   ]
  },
  {
   "cell_type": "code",
   "execution_count": null,
   "id": "b8e072c2-6cec-439e-98a5-8a9f3cdc7ace",
   "metadata": {},
   "outputs": [],
   "source": []
  }
 ],
 "metadata": {
  "kernelspec": {
   "display_name": "Python 3 (ipykernel)",
   "language": "python",
   "name": "python3"
  },
  "language_info": {
   "codemirror_mode": {
    "name": "ipython",
    "version": 3
   },
   "file_extension": ".py",
   "mimetype": "text/x-python",
   "name": "python",
   "nbconvert_exporter": "python",
   "pygments_lexer": "ipython3",
   "version": "3.11.5"
  }
 },
 "nbformat": 4,
 "nbformat_minor": 5
}
