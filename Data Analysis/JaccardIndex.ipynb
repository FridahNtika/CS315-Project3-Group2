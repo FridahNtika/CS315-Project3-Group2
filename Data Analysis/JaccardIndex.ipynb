{
 "cells": [
  {
   "cell_type": "code",
   "execution_count": null,
   "metadata": {},
   "outputs": [],
   "source": [
    "#I NEED TO 1st GET THE WRITE A COMMAND TO GET THE USER DATA. EXTRACT THE HASHTAGS. COMPARE USER1 to USERS (1,2,3,4,5,6,7,8,10)\n",
    "def get_set(Data):\n",
    "    \"\"\"\n",
    "    Returns a set of hashtags\n",
    "    \"\"\"\n",
    "    \n",
    "    all_hash= data['hashtag'].\n",
    "def jaccard_index(data, active, control):\n",
    "    \"\"\"\n",
    "    Returns jaccard index = intersection/union\n",
    "    Params:\n",
    "        data: pandas dataframe with all user data\n",
    "        active: pandas dataframe with active user data\n",
    "        control: pandas dataframe with control user data\n",
    "    \"\"\"\n",
    "    union = len(get_set(data))\n",
    "    intersec = len(get_intersec_hash(active, control))\n",
    "    return round(intersec/union,3)\n",
    "def get_jac_over_time(data):\n",
    "    \"\"\"\n",
    "    Returns a list\n",
    "    Params:\n",
    "        data: pandas dataframe with all user data\n",
    "    \"\"\"\n",
    "    jac_index = []\n",
    "    data_by_time = data.groupby('timegroup')\n",
    "    data_by_group_time = data.groupby(['Group', 'timegroup'])\n",
    "    for i in range(1, 21):\n",
    "        cur_control = data_by_group_time.get_group(('Control', i))\n",
    "        cur_act = data_by_group_time.get_group(('Active', i))\n",
    "        complete_group = data_by_time.get_group(i)\n",
    "        cur_jac = jaccard_index(complete_group, cur_act, cur_control)\n",
    "        jac_index.append(cur_jac)\n",
    "    return jac_index\n",
    "\n",
    "def plot_jac_over_time(jac_list):\n",
    "    \"\"\"\n",
    "    Plots the evolution of the jaccard index over time\n",
    "    Params:\n",
    "        jac_list: list of jaccard indices"
   ]
  }
 ],
 "metadata": {
  "language_info": {
   "name": "python"
  }
 },
 "nbformat": 4,
 "nbformat_minor": 2
}
