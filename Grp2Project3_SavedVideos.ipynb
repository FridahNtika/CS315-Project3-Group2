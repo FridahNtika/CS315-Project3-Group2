{
  "nbformat": 4,
  "nbformat_minor": 0,
  "metadata": {
    "colab": {
      "provenance": [],
      "include_colab_link": true
    },
    "kernelspec": {
      "name": "python3",
      "display_name": "Python 3"
    },
    "language_info": {
      "name": "python"
    }
  },
  "cells": [
    {
      "cell_type": "markdown",
      "metadata": {
        "id": "view-in-github",
        "colab_type": "text"
      },
      "source": [
        "<a href=\"https://colab.research.google.com/github/FridahNtika/CS315-Project3-Group2/blob/main/Grp2Project3_SavedVideos.ipynb\" target=\"_parent\"><img src=\"https://colab.research.google.com/assets/colab-badge.svg\" alt=\"Open In Colab\"/></a>"
      ]
    },
    {
      "cell_type": "code",
      "source": [
        "import os\n",
        "from google.colab import files\n",
        "import json\n",
        "from pandas import Series, DataFrame\n",
        "import pandas as pd\n",
        "import dateutil.parser as dparser\n",
        "from random import randint"
      ],
      "metadata": {
        "id": "MhsKkJ-G8FPn"
      },
      "execution_count": null,
      "outputs": []
    },
    {
      "cell_type": "code",
      "source": [
        "# Select 'user_data.json' file\n",
        "files.upload()"
      ],
      "metadata": {
        "id": "LoIot0BI8P2b"
      },
      "execution_count": null,
      "outputs": []
    },
    {
      "cell_type": "code",
      "source": [
        "# Read the uploaded user_data.json file\n",
        "with open('user_data.json', 'r') as myFile:\n",
        "  data = json.load(myFile)\n",
        "#data"
      ],
      "metadata": {
        "id": "4kxmBHsM8bMg"
      },
      "execution_count": null,
      "outputs": []
    },
    {
      "cell_type": "code",
      "source": [
        "#from google.colab import drive\n",
        "#drive.mount('/content/drive')"
      ],
      "metadata": {
        "id": "GfPFh1wESWg2"
      },
      "execution_count": null,
      "outputs": []
    },
    {
      "cell_type": "code",
      "source": [
        "videos_saved = pd.DataFrame(data['Activity']['Favorite Videos']['FavoriteVideoList'])\n",
        "videos_saved.head()"
      ],
      "metadata": {
        "id": "SoBIVNzc8voW"
      },
      "execution_count": null,
      "outputs": []
    },
    {
      "cell_type": "code",
      "source": [
        "videos_saved.shape[0]"
      ],
      "metadata": {
        "id": "_CLkXIwc-fAt"
      },
      "execution_count": null,
      "outputs": []
    },
    {
      "cell_type": "code",
      "source": [
        "# Generate New File Name\n",
        "randNum = randint(10**(5-1), (10**5)-1)\n",
        "str(randNum)\n",
        "filename = f\"Sec2Gr2Pr3_{randNum}.json\"\n",
        "filename"
      ],
      "metadata": {
        "id": "uDA99HFk-v5d"
      },
      "execution_count": null,
      "outputs": []
    },
    {
      "cell_type": "code",
      "source": [
        "new = data[\"Activity\"][\"Favorite Videos\"]['FavoriteVideoList']"
      ],
      "metadata": {
        "id": "UTVt2ZSUaOMh"
      },
      "execution_count": null,
      "outputs": []
    },
    {
      "cell_type": "code",
      "source": [
        "with open(filename, \"w\") as final:\n",
        "    json.dump(new, final)"
      ],
      "metadata": {
        "id": "BuDmGS22ZZmO"
      },
      "execution_count": null,
      "outputs": []
    },
    {
      "cell_type": "code",
      "source": [
        "files.download(filename)"
      ],
      "metadata": {
        "id": "cgnUdutT8CjJ"
      },
      "execution_count": null,
      "outputs": []
    },
    {
      "cell_type": "code",
      "source": [
        "with open(filename, \"r\") as rd:\n",
        "    test = json.load(rd)\n",
        "print(len(test))"
      ],
      "metadata": {
        "id": "4qtWH-b2cuht"
      },
      "execution_count": null,
      "outputs": []
    }
  ]
}